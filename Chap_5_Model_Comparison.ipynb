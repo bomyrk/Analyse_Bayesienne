{
 "cells": [
  {
   "cell_type": "markdown",
   "id": "7cd132bb",
   "metadata": {},
   "source": [
    "# Posterior predictive checks"
   ]
  },
  {
   "cell_type": "raw",
   "id": "66bf1a67",
   "metadata": {},
   "source": [
    "A posterior predictive check is a way to evaluate a model in the context of the purpose in mind; thus, if we have more than one model, we can use posterior predictive checks to compare them."
   ]
  },
  {
   "cell_type": "code",
   "execution_count": 3,
   "id": "a47b9ccb",
   "metadata": {},
   "outputs": [],
   "source": [
    "import matplotlib.pyplot as plt\n",
    "import scipy.stats as stats\n",
    "import numpy as np\n",
    "import pandas as pd\n",
    "import seaborn as sns\n",
    "import pymc3 as pm\n",
    "import arviz as az\n",
    "from theano import shared\n",
    "from theano import tensor as tt"
   ]
  },
  {
   "cell_type": "code",
   "execution_count": 4,
   "id": "9a50a28f",
   "metadata": {},
   "outputs": [
    {
     "data": {
      "text/plain": [
       "array([[-1.081,  9.357],\n",
       "       [-0.888,  8.322],\n",
       "       [-0.623,  8.745],\n",
       "       [-0.48 ,  7.346],\n",
       "       [-0.505,  7.028]])"
      ]
     },
     "execution_count": 4,
     "metadata": {},
     "output_type": "execute_result"
    }
   ],
   "source": [
    "dummy_data = np.loadtxt('C:/Users/kamguia_l/Documents/data/dummy.csv')\n",
    "dummy_data[:5,]\n",
    "#dummy_data.describe()"
   ]
  },
  {
   "cell_type": "code",
   "execution_count": 6,
   "id": "2c19a466",
   "metadata": {},
   "outputs": [],
   "source": [
    "x_1 = dummy_data[:,0]\n",
    "y_1 = dummy_data[:,1]"
   ]
  },
  {
   "cell_type": "code",
   "execution_count": 7,
   "id": "d1c91616",
   "metadata": {},
   "outputs": [
    {
     "data": {
      "text/plain": [
       "Text(0, 0.5, 'y')"
      ]
     },
     "execution_count": 7,
     "metadata": {},
     "output_type": "execute_result"
    },
    {
     "data": {
      "image/png": "[encoded data removed]",
      "text/plain": [
       "<Figure size 432x288 with 1 Axes>"
      ]
     },
     "metadata": {
      "needs_background": "light"
     },
     "output_type": "display_data"
    }
   ],
   "source": [
    "order = 2\n",
    "x_1p = np.vstack([x_1**i for i in range(1, order+1)])\n",
    "x_1s = (x_1p - x_1p.mean(axis=1, keepdims=True)) / \\\n",
    "    x_1p.std(axis=1, keepdims=True)\n",
    "y_1s = (y_1 - y_1.mean()) / y_1.std()\n",
    "plt.scatter(x_1s[0], y_1s)\n",
    "plt.xlabel('x')\n",
    "plt.ylabel('y')"
   ]
  },
  {
   "cell_type": "code",
   "execution_count": 9,
   "id": "3d375d56",
   "metadata": {},
   "outputs": [
    {
     "data": {
      "text/plain": [
       "(2, 33)"
      ]
     },
     "execution_count": 9,
     "metadata": {},
     "output_type": "execute_result"
    }
   ],
   "source": [
    "x_1s.shape"
   ]
  },
  {
   "cell_type": "code",
   "execution_count": 12,
   "id": "ea59b59f",
   "metadata": {},
   "outputs": [
    {
     "data": {
      "text/plain": [
       "(33,)"
      ]
     },
     "execution_count": 12,
     "metadata": {},
     "output_type": "execute_result"
    }
   ],
   "source": [
    "x_1.shape"
   ]
  },
  {
   "cell_type": "code",
   "execution_count": 13,
   "id": "bcd081c9",
   "metadata": {},
   "outputs": [
    {
     "data": {
      "text/plain": [
       "array([[-1.72414181, -1.5947931 , -1.41718994, -1.32135125, -1.33810627,\n",
       "        -1.23087417, -0.96480453, -0.95877273, -0.85556184, -0.73492573,\n",
       "        -0.56871598, -0.41591024, -0.4795793 , -0.44137787, -0.17932943,\n",
       "        -0.12839419,  0.04786857,  0.11890983,  0.31862961,  0.3072362 ,\n",
       "         0.36085225,  0.5310832 ,  0.69863335,  0.69662275,  0.85344969,\n",
       "         0.95263938,  1.12354053,  1.0907007 ,  1.26897406,  1.33800472,\n",
       "         1.37151475,  1.61412737,  1.66104141],\n",
       "       [-0.6811725 , -0.76003053, -0.84312138, -0.87585202, -0.87074204,\n",
       "        -0.89896365, -0.92310164, -0.9228906 , -0.91407052, -0.89128571,\n",
       "        -0.83786718, -0.76623575, -0.7987041 , -0.77967256, -0.61277348,\n",
       "        -0.57296772, -0.41671773, -0.34562583, -0.12078093, -0.13459894,\n",
       "        -0.06852717,  0.15885519,  0.40880321,  0.40565007,  0.66281204,\n",
       "         0.83719337,  1.15897266,  1.09504594,  1.45405472,  1.6009563 ,\n",
       "         1.67385522,  2.23259249,  2.34691077]])"
      ]
     },
     "execution_count": 13,
     "metadata": {},
     "output_type": "execute_result"
    }
   ],
   "source": [
    "x_1s"
   ]
  },
  {
   "cell_type": "code",
   "execution_count": 14,
   "id": "b28ed555",
   "metadata": {},
   "outputs": [
    {
     "data": {
      "text/plain": [
       "array([[-1.0810000e+00, -8.8800000e-01, -6.2300000e-01, -4.8000000e-01,\n",
       "        -5.0500000e-01, -3.4500000e-01,  5.2000000e-02,  6.1000000e-02,\n",
       "         2.1500000e-01,  3.9500000e-01,  6.4300000e-01,  8.7100000e-01,\n",
       "         7.7600000e-01,  8.3300000e-01,  1.2240000e+00,  1.3000000e+00,\n",
       "         1.5630000e+00,  1.6690000e+00,  1.9670000e+00,  1.9500000e+00,\n",
       "         2.0300000e+00,  2.2840000e+00,  2.5340000e+00,  2.5310000e+00,\n",
       "         2.7650000e+00,  2.9130000e+00,  3.1680000e+00,  3.1190000e+00,\n",
       "         3.3850000e+00,  3.4880000e+00,  3.5380000e+00,  3.9000000e+00,\n",
       "         3.9700000e+00],\n",
       "       [ 1.1685610e+00,  7.8854400e-01,  3.8812900e-01,  2.3040000e-01,\n",
       "         2.5502500e-01,  1.1902500e-01,  2.7040000e-03,  3.7210000e-03,\n",
       "         4.6225000e-02,  1.5602500e-01,  4.1344900e-01,  7.5864100e-01,\n",
       "         6.0217600e-01,  6.9388900e-01,  1.4981760e+00,  1.6900000e+00,\n",
       "         2.4429690e+00,  2.7855610e+00,  3.8690890e+00,  3.8025000e+00,\n",
       "         4.1209000e+00,  5.2166560e+00,  6.4211560e+00,  6.4059610e+00,\n",
       "         7.6452250e+00,  8.4855690e+00,  1.0036224e+01,  9.7281610e+00,\n",
       "         1.1458225e+01,  1.2166144e+01,  1.2517444e+01,  1.5210000e+01,\n",
       "         1.5760900e+01]])"
      ]
     },
     "execution_count": 14,
     "metadata": {},
     "output_type": "execute_result"
    }
   ],
   "source": [
    "x_1p"
   ]
  },
  {
   "cell_type": "code",
   "execution_count": 15,
   "id": "cfefbd44",
   "metadata": {},
   "outputs": [
    {
     "data": {
      "text/plain": [
       "array([[1.49157576],\n",
       "       [4.45113255]])"
      ]
     },
     "execution_count": 15,
     "metadata": {},
     "output_type": "execute_result"
    }
   ],
   "source": [
    "x_1p.mean(axis=1, keepdims=True)"
   ]
  },
  {
   "cell_type": "code",
   "execution_count": 16,
   "id": "5de50dcf",
   "metadata": {},
   "outputs": [
    {
     "name": "stderr",
     "output_type": "stream",
     "text": [
      "C:\\Users\\KAMGUI~1\\AppData\\Local\\Temp/ipykernel_16152/3812288057.py:7: FutureWarning: In v4.0, pm.sample will return an `arviz.InferenceData` object instead of a `MultiTrace` by default. You can pass return_inferencedata=True or return_inferencedata=False to be safe and silence this warning.\n",
      "  trace_l = pm.sample(2000)\n",
      "Auto-assigning NUTS sampler...\n",
      "Initializing NUTS using jitter+adapt_diag...\n",
      "Multiprocess sampling (4 chains in 4 jobs)\n",
      "NUTS: [ϵ, β, α]\n"
     ]
    },
    {
     "data": {
      "text/html": [
       "\n",
       "    <div>\n",
       "        <style>\n",
       "            /* Turns off some styling */\n",
       "            progress {\n",
       "                /* gets rid of default border in Firefox and Opera. */\n",
       "                border: none;\n",
       "                /* Needs to be in here for Safari polyfill so background images work as expected. */\n",
       "                background-size: auto;\n",
       "            }\n",
       "            .progress-bar-interrupted, .progress-bar-interrupted::-webkit-progress-bar {\n",
       "                background: #F44336;\n",
       "            }\n",
       "        </style>\n",
       "      <progress value='12000' class='' max='12000' style='width:300px; height:20px; vertical-align: middle;'></progress>\n",
       "      100.00% [12000/12000 00:06<00:00 Sampling 4 chains, 0 divergences]\n",
       "    </div>\n",
       "    "
      ],
      "text/plain": [
       "<IPython.core.display.HTML object>"
      ]
     },
     "metadata": {},
     "output_type": "display_data"
    },
    {
     "name": "stderr",
     "output_type": "stream",
     "text": [
      "Sampling 4 chains for 1_000 tune and 2_000 draw iterations (4_000 + 8_000 draws total) took 28 seconds.\n"
     ]
    }
   ],
   "source": [
    "with pm.Model() as model_l:\n",
    "    α = pm.Normal('α', mu=0, sd=1)\n",
    "    β = pm.Normal('β', mu=0, sd=10)\n",
    "    ϵ = pm.HalfNormal('ϵ', 5)\n",
    "    μ = α + β * x_1s[0]\n",
    "    y_pred = pm.Normal('y_pred', mu=μ, sd=ϵ, observed=y_1s)\n",
    "    trace_l = pm.sample(2000)"
   ]
  },
  {
   "cell_type": "code",
   "execution_count": 17,
   "id": "c36a588c",
   "metadata": {},
   "outputs": [
    {
     "name": "stderr",
     "output_type": "stream",
     "text": [
      "C:\\Users\\KAMGUI~1\\AppData\\Local\\Temp/ipykernel_16152/1099293836.py:7: FutureWarning: In v4.0, pm.sample will return an `arviz.InferenceData` object instead of a `MultiTrace` by default. You can pass return_inferencedata=True or return_inferencedata=False to be safe and silence this warning.\n",
      "  trace_p = pm.sample(2000)\n",
      "Auto-assigning NUTS sampler...\n",
      "Initializing NUTS using jitter+adapt_diag...\n",
      "Multiprocess sampling (4 chains in 4 jobs)\n",
      "NUTS: [ϵ, β, α]\n"
     ]
    },
    {
     "data": {
      "text/html": [
       "\n",
       "    <div>\n",
       "        <style>\n",
       "            /* Turns off some styling */\n",
       "            progress {\n",
       "                /* gets rid of default border in Firefox and Opera. */\n",
       "                border: none;\n",
       "                /* Needs to be in here for Safari polyfill so background images work as expected. */\n",
       "                background-size: auto;\n",
       "            }\n",
       "            .progress-bar-interrupted, .progress-bar-interrupted::-webkit-progress-bar {\n",
       "                background: #F44336;\n",
       "            }\n",
       "        </style>\n",
       "      <progress value='12000' class='' max='12000' style='width:300px; height:20px; vertical-align: middle;'></progress>\n",
       "      100.00% [12000/12000 00:09<00:00 Sampling 4 chains, 0 divergences]\n",
       "    </div>\n",
       "    "
      ],
      "text/plain": [
       "<IPython.core.display.HTML object>"
      ]
     },
     "metadata": {},
     "output_type": "display_data"
    },
    {
     "name": "stderr",
     "output_type": "stream",
     "text": [
      "Sampling 4 chains for 1_000 tune and 2_000 draw iterations (4_000 + 8_000 draws total) took 30 seconds.\n"
     ]
    }
   ],
   "source": [
    "with pm.Model() as model_p:\n",
    "    α = pm.Normal('α', mu=0, sd=1)\n",
    "    β = pm.Normal('β', mu=0, sd=10, shape=order)\n",
    "    ϵ = pm.HalfNormal('ϵ', 5)\n",
    "    μ = α + pm.math.dot(β, x_1s)\n",
    "    y_pred = pm.Normal('y_pred', mu=μ, sd=ϵ, observed=y_1s)\n",
    "    trace_p = pm.sample(2000)"
   ]
  },
  {
   "cell_type": "code",
   "execution_count": 18,
   "id": "4e34f6e5",
   "metadata": {},
   "outputs": [
    {
     "data": {
      "text/plain": [
       "<matplotlib.legend.Legend at 0x138c4033820>"
      ]
     },
     "execution_count": 18,
     "metadata": {},
     "output_type": "execute_result"
    },
    {
     "data": {
      "image/png": "[encoded data removed]",
      "text/plain": [
       "<Figure size 432x288 with 1 Axes>"
      ]
     },
     "metadata": {
      "needs_background": "light"
     },
     "output_type": "display_data"
    }
   ],
   "source": [
    "x_new = np.linspace(x_1s[0].min(), x_1s[0].max(), 100)\n",
    "α_l_post = trace_l['α'].mean()\n",
    "β_l_post = trace_l['β'].mean(axis=0)\n",
    "y_l_post = α_l_post + β_l_post * x_new\n",
    "\n",
    "plt.plot(x_new, y_l_post, 'C1', label='linear model')\n",
    "\n",
    "α_p_post = trace_p['α'].mean()\n",
    "β_p_post = trace_p['β'].mean(axis=0)\n",
    "idx = np.argsort(x_1s[0])\n",
    "y_p_post = α_p_post + np.dot(β_p_post, x_1s)\n",
    "\n",
    "plt.plot(x_1s[0][idx], y_p_post[idx], 'C2', label=f'model order {order}')\n",
    "\n",
    "α_p_post = trace_p['α'].mean()\n",
    "β_p_post = trace_p['β'].mean(axis=0)\n",
    "x_new_p = np.vstack([x_new**i for i in range(1, order+1)])\n",
    "y_p_post = α_p_post + np.dot(β_p_post, x_new_p)\n",
    "\n",
    "plt.scatter(x_1s[0], y_1s, c='C0', marker='.')\n",
    "plt.legend()"
   ]
  },
  {
   "cell_type": "code",
   "execution_count": 19,
   "id": "da3a507d",
   "metadata": {},
   "outputs": [
    {
     "name": "stderr",
     "output_type": "stream",
     "text": [
      "D:\\Anaconda\\lib\\site-packages\\pymc3\\sampling.py:1689: UserWarning: samples parameter is smaller than nchains times ndraws, some draws and/or chains may not be represented in the returned posterior predictive sample\n",
      "  warnings.warn(\n"
     ]
    },
    {
     "data": {
      "text/html": [
       "\n",
       "    <div>\n",
       "        <style>\n",
       "            /* Turns off some styling */\n",
       "            progress {\n",
       "                /* gets rid of default border in Firefox and Opera. */\n",
       "                border: none;\n",
       "                /* Needs to be in here for Safari polyfill so background images work as expected. */\n",
       "                background-size: auto;\n",
       "            }\n",
       "            .progress-bar-interrupted, .progress-bar-interrupted::-webkit-progress-bar {\n",
       "                background: #F44336;\n",
       "            }\n",
       "        </style>\n",
       "      <progress value='2000' class='' max='2000' style='width:300px; height:20px; vertical-align: middle;'></progress>\n",
       "      100.00% [2000/2000 00:01<00:00]\n",
       "    </div>\n",
       "    "
      ],
      "text/plain": [
       "<IPython.core.display.HTML object>"
      ]
     },
     "metadata": {},
     "output_type": "display_data"
    },
    {
     "name": "stderr",
     "output_type": "stream",
     "text": [
      "D:\\Anaconda\\lib\\site-packages\\pymc3\\sampling.py:1689: UserWarning: samples parameter is smaller than nchains times ndraws, some draws and/or chains may not be represented in the returned posterior predictive sample\n",
      "  warnings.warn(\n"
     ]
    },
    {
     "data": {
      "text/html": [
       "\n",
       "    <div>\n",
       "        <style>\n",
       "            /* Turns off some styling */\n",
       "            progress {\n",
       "                /* gets rid of default border in Firefox and Opera. */\n",
       "                border: none;\n",
       "                /* Needs to be in here for Safari polyfill so background images work as expected. */\n",
       "                background-size: auto;\n",
       "            }\n",
       "            .progress-bar-interrupted, .progress-bar-interrupted::-webkit-progress-bar {\n",
       "                background: #F44336;\n",
       "            }\n",
       "        </style>\n",
       "      <progress value='2000' class='' max='2000' style='width:300px; height:20px; vertical-align: middle;'></progress>\n",
       "      100.00% [2000/2000 00:01<00:00]\n",
       "    </div>\n",
       "    "
      ],
      "text/plain": [
       "<IPython.core.display.HTML object>"
      ]
     },
     "metadata": {},
     "output_type": "display_data"
    }
   ],
   "source": [
    "y_l = pm.sample_posterior_predictive(trace_l, 2000,\n",
    "model=model_l)['y_pred']\n",
    "y_p = pm.sample_posterior_predictive(trace_p, 2000,\n",
    "model=model_p)['y_pred']"
   ]
  },
  {
   "cell_type": "code",
   "execution_count": 20,
   "id": "7914a59f",
   "metadata": {},
   "outputs": [
    {
     "data": {
      "text/plain": [
       "([], [])"
      ]
     },
     "execution_count": 20,
     "metadata": {},
     "output_type": "execute_result"
    },
    {
     "data": {
      "image/png": "[encoded data removed]",
      "text/plain": [
       "<Figure size 576x216 with 1 Axes>"
      ]
     },
     "metadata": {
      "needs_background": "light"
     },
     "output_type": "display_data"
    }
   ],
   "source": [
    "plt.figure(figsize=(8, 3))\n",
    "data = [y_1s, y_l, y_p]\n",
    "labels = ['data', 'linear model', 'order 2']\n",
    "for i, d in enumerate(data):\n",
    "    mean = d.mean()\n",
    "    err = np.percentile(d, [25, 75])\n",
    "    plt.errorbar(mean, -i, xerr=[[-err[0]], [err[1]]], fmt='o')\n",
    "    plt.text(mean, -i+0.2, labels[i], ha='center', fontsize=14)\n",
    "plt.ylim([-i-0.5, 0.5])\n",
    "plt.yticks([])"
   ]
  },
  {
   "cell_type": "code",
   "execution_count": 21,
   "id": "5e22fabe",
   "metadata": {},
   "outputs": [
    {
     "data": {
      "image/png": "[encoded data removed]",
      "text/plain": [
       "<Figure size 720x216 with 2 Axes>"
      ]
     },
     "metadata": {
      "needs_background": "light"
     },
     "output_type": "display_data"
    }
   ],
   "source": [
    "fig, ax = plt.subplots(1, 2, figsize=(10, 3), constrained_layout=True)\n",
    "def iqr(x, a=0):\n",
    "    return np.subtract(*np.percentile(x, [75, 25], axis=a))\n",
    "for idx, func in enumerate([np.mean, iqr]):\n",
    "    T_obs = func(y_1s)\n",
    "    ax[idx].axvline(T_obs, 0, 1, color='k', ls='--')\n",
    "    for d_sim, c in zip([y_l, y_p], ['C1', 'C2']):\n",
    "        T_sim = func(d_sim, 1)\n",
    "        p_value = np.mean(T_sim >= T_obs)\n",
    "        az.plot_kde(T_sim, plot_kwargs={'color': c},\n",
    "                    label=f'p-value {p_value:.2f}', ax=ax[idx])\n",
    "    ax[idx].set_title(func.__name__)\n",
    "    ax[idx].set_yticks([])\n",
    "    ax[idx].legend()"
   ]
  },
  {
   "cell_type": "code",
   "execution_count": 23,
   "id": "bda77c2a",
   "metadata": {},
   "outputs": [
    {
     "data": {
      "text/plain": [
       "array([-0.94526753, -0.92037611, -0.98295724, ..., -1.05730042,\n",
       "       -0.79372633, -0.98724291])"
      ]
     },
     "execution_count": 23,
     "metadata": {},
     "output_type": "execute_result"
    }
   ],
   "source": [
    "trace_l['β']"
   ]
  },
  {
   "cell_type": "code",
   "execution_count": 24,
   "id": "23511b13",
   "metadata": {},
   "outputs": [
    {
     "data": {
      "text/plain": [
       "Text(0, 0.5, 'y')"
      ]
     },
     "execution_count": 24,
     "metadata": {},
     "output_type": "execute_result"
    },
    {
     "data": {
      "image/png": "[encoded data removed]",
      "text/plain": [
       "<Figure size 720x360 with 1 Axes>"
      ]
     },
     "metadata": {
      "needs_background": "light"
     },
     "output_type": "display_data"
    }
   ],
   "source": [
    "x = np.array([4., 5., 6., 9., 12, 14.])\n",
    "y = np.array([4.2, 6., 6., 9., 10, 10.])\n",
    "\n",
    "plt.figure(figsize=(10, 5))\n",
    "order = [0, 1, 2, 5]\n",
    "plt.plot(x, y, 'o')\n",
    "for i in order:\n",
    "    x_n = np.linspace(x.min(), x.max(), 100)\n",
    "    coeffs = np.polyfit(x, y, deg=i)\n",
    "    ffit = np.polyval(coeffs, x_n)\n",
    "    p = np.poly1d(coeffs)\n",
    "    yhat = p(x)\n",
    "    ybar = np.mean(y)\n",
    "    ssreg = np.sum((yhat-ybar)**2)\n",
    "    sstot = np.sum((y - ybar)**2)\n",
    "    r2 = ssreg / sstot\n",
    "    \n",
    "    plt.plot(x_n, ffit, label=f'order {i}, $R^2$= {r2:.2f}')\n",
    "    \n",
    "plt.legend(loc=2)\n",
    "plt.xlabel('x')\n",
    "plt.ylabel('y', rotation=0)"
   ]
  },
  {
   "cell_type": "code",
   "execution_count": 25,
   "id": "b2249589",
   "metadata": {},
   "outputs": [
    {
     "name": "stderr",
     "output_type": "stream",
     "text": [
      "D:\\Anaconda\\lib\\site-packages\\arviz\\data\\io_pymc3.py:96: FutureWarning: Using `from_pymc3` without the model will be deprecated in a future release. Not using the model will return less accurate and less useful results. Make sure you use the model argument or call from_pymc3 within a model context.\n",
      "  warnings.warn(\n"
     ]
    },
    {
     "data": {
      "text/plain": [
       "Computed from 8000 by 33 log-likelihood matrix\n",
       "\n",
       "          Estimate       SE\n",
       "elpd_waic   -14.36     2.67\n",
       "p_waic        2.43        -"
      ]
     },
     "execution_count": 25,
     "metadata": {},
     "output_type": "execute_result"
    }
   ],
   "source": [
    "waic_l = az.waic(trace_l)\n",
    "waic_l"
   ]
  },
  {
   "cell_type": "code",
   "execution_count": 26,
   "id": "a612cb05",
   "metadata": {},
   "outputs": [
    {
     "name": "stderr",
     "output_type": "stream",
     "text": [
      "D:\\Anaconda\\lib\\site-packages\\arviz\\stats\\stats.py:145: UserWarning: The default method used to estimate the weights for each model,has changed from BB-pseudo-BMA to stacking\n",
      "  warnings.warn(\n",
      "D:\\Anaconda\\lib\\site-packages\\arviz\\data\\io_pymc3.py:96: FutureWarning: Using `from_pymc3` without the model will be deprecated in a future release. Not using the model will return less accurate and less useful results. Make sure you use the model argument or call from_pymc3 within a model context.\n",
      "  warnings.warn(\n",
      "D:\\Anaconda\\lib\\site-packages\\arviz\\data\\io_pymc3.py:96: FutureWarning: Using `from_pymc3` without the model will be deprecated in a future release. Not using the model will return less accurate and less useful results. Make sure you use the model argument or call from_pymc3 within a model context.\n",
      "  warnings.warn(\n"
     ]
    },
    {
     "data": {
      "text/html": [
       "<div>\n",
       "<style scoped>\n",
       "    .dataframe tbody tr th:only-of-type {\n",
       "        vertical-align: middle;\n",
       "    }\n",
       "\n",
       "    .dataframe tbody tr th {\n",
       "        vertical-align: top;\n",
       "    }\n",
       "\n",
       "    .dataframe thead th {\n",
       "        text-align: right;\n",
       "    }\n",
       "</style>\n",
       "<table border=\"1\" class=\"dataframe\">\n",
       "  <thead>\n",
       "    <tr style=\"text-align: right;\">\n",
       "      <th></th>\n",
       "      <th>rank</th>\n",
       "      <th>loo</th>\n",
       "      <th>p_loo</th>\n",
       "      <th>d_loo</th>\n",
       "      <th>weight</th>\n",
       "      <th>se</th>\n",
       "      <th>dse</th>\n",
       "      <th>warning</th>\n",
       "      <th>loo_scale</th>\n",
       "    </tr>\n",
       "  </thead>\n",
       "  <tbody>\n",
       "    <tr>\n",
       "      <th>model_p</th>\n",
       "      <td>0</td>\n",
       "      <td>-4.549151</td>\n",
       "      <td>2.652611</td>\n",
       "      <td>0.000000</td>\n",
       "      <td>0.998707</td>\n",
       "      <td>2.636253</td>\n",
       "      <td>0.000000</td>\n",
       "      <td>False</td>\n",
       "      <td>log</td>\n",
       "    </tr>\n",
       "    <tr>\n",
       "      <th>model_l</th>\n",
       "      <td>1</td>\n",
       "      <td>-14.385134</td>\n",
       "      <td>2.461177</td>\n",
       "      <td>9.835983</td>\n",
       "      <td>0.001293</td>\n",
       "      <td>2.337992</td>\n",
       "      <td>2.673808</td>\n",
       "      <td>False</td>\n",
       "      <td>log</td>\n",
       "    </tr>\n",
       "  </tbody>\n",
       "</table>\n",
       "</div>"
      ],
      "text/plain": [
       "         rank        loo     p_loo     d_loo    weight        se       dse  \\\n",
       "model_p     0  -4.549151  2.652611  0.000000  0.998707  2.636253  0.000000   \n",
       "model_l     1 -14.385134  2.461177  9.835983  0.001293  2.337992  2.673808   \n",
       "\n",
       "         warning loo_scale  \n",
       "model_p    False       log  \n",
       "model_l    False       log  "
      ]
     },
     "execution_count": 26,
     "metadata": {},
     "output_type": "execute_result"
    }
   ],
   "source": [
    "cmp_df = az.compare({'model_l':trace_l, 'model_p':trace_p}, method='BB-pseudo-BMA')\n",
    "cmp_df"
   ]
  },
  {
   "cell_type": "code",
   "execution_count": 27,
   "id": "c6848e5b",
   "metadata": {},
   "outputs": [
    {
     "data": {
      "text/plain": [
       "<AxesSubplot:xlabel='Log'>"
      ]
     },
     "execution_count": 27,
     "metadata": {},
     "output_type": "execute_result"
    },
    {
     "data": {
      "image/png": "[encoded data removed]",
      "text/plain": [
       "<Figure size 432x144 with 1 Axes>"
      ]
     },
     "metadata": {
      "needs_background": "light"
     },
     "output_type": "display_data"
    }
   ],
   "source": [
    "az.plot_compare(cmp_df)"
   ]
  },
  {
   "cell_type": "code",
   "execution_count": 28,
   "id": "35ee20cc",
   "metadata": {},
   "outputs": [
    {
     "name": "stderr",
     "output_type": "stream",
     "text": [
      "D:\\Anaconda\\lib\\site-packages\\arviz\\data\\io_pymc3.py:96: FutureWarning: Using `from_pymc3` without the model will be deprecated in a future release. Not using the model will return less accurate and less useful results. Make sure you use the model argument or call from_pymc3 within a model context.\n",
      "  warnings.warn(\n"
     ]
    },
    {
     "data": {
      "text/plain": [
       "Computed from 8000 by 33 log-likelihood matrix\n",
       "\n",
       "         Estimate       SE\n",
       "elpd_loo   -14.39     2.68\n",
       "p_loo        2.46        -"
      ]
     },
     "execution_count": 28,
     "metadata": {},
     "output_type": "execute_result"
    }
   ],
   "source": [
    "az.loo(trace_l)"
   ]
  },
  {
   "cell_type": "code",
   "execution_count": null,
   "id": "75dd59fd",
   "metadata": {},
   "outputs": [],
   "source": []
  }
 ],
 "metadata": {
  "kernelspec": {
   "display_name": "Python 3 (ipykernel)",
   "language": "python",
   "name": "python3"
  },
  "language_info": {
   "codemirror_mode": {
    "name": "ipython",
    "version": 3
   },
   "file_extension": ".py",
   "mimetype": "text/x-python",
   "name": "python",
   "nbconvert_exporter": "python",
   "pygments_lexer": "ipython3",
   "version": "3.9.12"
  }
 },
 "nbformat": 4,
 "nbformat_minor": 5
}
